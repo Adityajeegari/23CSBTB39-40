{
  "nbformat": 4,
  "nbformat_minor": 0,
  "metadata": {
    "colab": {
      "provenance": [],
      "authorship_tag": "ABX9TyPbcgRdVjmxhDXXReYl5KUf",
      "include_colab_link": true
    },
    "kernelspec": {
      "name": "python3",
      "display_name": "Python 3"
    },
    "language_info": {
      "name": "python"
    }
  },
  "cells": [
    {
      "cell_type": "markdown",
      "metadata": {
        "id": "view-in-github",
        "colab_type": "text"
      },
      "source": [
        "<a href=\"https://colab.research.google.com/github/Adityajeegari/23CSBTB39-40/blob/main/Untitled4.ipynb\" target=\"_parent\"><img src=\"https://colab.research.google.com/assets/colab-badge.svg\" alt=\"Open In Colab\"/></a>"
      ]
    },
    {
      "cell_type": "markdown",
      "source": [
        "**Lab Exercise - Implement Breadth First, Depth First and A* Search\n",
        "Algorithms**"
      ],
      "metadata": {
        "id": "A6d0a8TFUbnX"
      }
    },
    {
      "cell_type": "markdown",
      "source": [
        "Part 1 – Implement Breadth First Search Algorithm using a Queue.\n",
        "[C02]"
      ],
      "metadata": {
        "id": "eZVZDDVCVEM_"
      }
    },
    {
      "cell_type": "code",
      "execution_count": null,
      "metadata": {
        "id": "XXIFZvHlUSN5"
      },
      "outputs": [],
      "source": []
    },
    {
      "cell_type": "markdown",
      "source": [
        "Part 2 – Implement Depth First Search Algorithm using a Stack.\n",
        "[CO3]"
      ],
      "metadata": {
        "id": "HO0vraPmVL7x"
      }
    },
    {
      "cell_type": "code",
      "source": [],
      "metadata": {
        "id": "9O1yJTCDVWSv"
      },
      "execution_count": null,
      "outputs": []
    },
    {
      "cell_type": "markdown",
      "source": [
        "Part 3 – Implement A* Algorithm using Numpy. [CO4]"
      ],
      "metadata": {
        "id": "1lR4asVmVXek"
      }
    },
    {
      "cell_type": "code",
      "source": [],
      "metadata": {
        "id": "O0lL-CEHVaR2"
      },
      "execution_count": null,
      "outputs": []
    }
  ]
}